{
 "cells": [
  {
   "cell_type": "markdown",
   "id": "25d7736c-ba17-4aff-b6bb-66eba20fbf4e",
   "metadata": {},
   "source": [
    "# Lab | Functions"
   ]
  },
  {
   "cell_type": "markdown",
   "id": "0c581062-8967-4d93-b06e-62833222f930",
   "metadata": {
    "tags": []
   },
   "source": [
    "## Exercise: Managing Customer Orders with Functions\n",
    "\n",
    "In the previous exercise, you improved the code for managing customer orders by using loops and flow control. Now, let's take it a step further and refactor the code by introducing functions.\n",
    "\n",
    "Follow the steps below to complete the exercise:\n",
    "\n",
    "1. Define a function named `initialize_inventory` that takes `products` as a parameter. Inside the function, implement the code for initializing the inventory dictionary using a loop and user input.\n",
    "\n",
    "2. Define a function named `get_customer_orders` that takes no parameters. Inside the function, implement the code for prompting the user to enter the product names using a loop. The function should return the `customer_orders` set.\n",
    "\n",
    "3. Define a function named `update_inventory` that takes `customer_orders` and `inventory` as parameters. Inside the function, implement the code for updating the inventory dictionary based on the customer orders.\n",
    "\n",
    "4. Define a function named `calculate_order_statistics` that takes `customer_orders` and `products` as parameters. Inside the function, implement the code for calculating the order statistics (total products ordered, and percentage of unique products ordered). The function should return these values.\n",
    "\n",
    "5. Define a function named `print_order_statistics` that takes `order_statistics` as a parameter. Inside the function, implement the code for printing the order statistics.\n",
    "\n",
    "6. Define a function named `print_updated_inventory` that takes `inventory` as a parameter. Inside the function, implement the code for printing the updated inventory.\n",
    "\n",
    "7. Call the functions in the appropriate sequence to execute the program and manage customer orders.\n",
    "\n",
    "Hints for functions:\n",
    "\n",
    "- Consider the input parameters required for each function and their return values.\n",
    "- Utilize function parameters and return values to transfer data between functions.\n",
    "- Test your functions individually to ensure they work correctly.\n",
    "\n",
    "\n"
   ]
  },
  {
   "cell_type": "code",
   "execution_count": 169,
   "id": "40b31474-7fd8-4165-9f1f-e0348638064c",
   "metadata": {},
   "outputs": [],
   "source": [
    "def initialize_inventory(products):\n",
    "    inventory={}\n",
    "    for product in products:\n",
    "        inventory[product]=int(input(f\"please enter a quantity of {product}\"))\n",
    "    return (inventory)"
   ]
  },
  {
   "cell_type": "code",
   "execution_count": 170,
   "id": "223e6a87-4ae6-454f-b0f9-c247aef9c3c7",
   "metadata": {},
   "outputs": [],
   "source": [
    "def get_customer_orders():\n",
    "    customer_orders= set()\n",
    "    \n",
    "    customer_choice = input(\"Enter the name of the product: \").lower()\n",
    "    customer_orders.add(customer_choice)\n",
    "    user_input = input(\"Do you want to add another product? (yes/no): \").lower()\n",
    "    \n",
    "    while user_input not in [\"yes\", \"no\"]:\n",
    "        print(\"Invalid input. Please enter 'yes' or 'no'.\")\n",
    "        user_input = input(\"Do you want to add another product? (yes/no): \").lower()\n",
    "    \n",
    "    while user_input == \"yes\":\n",
    "        customer_choice = input(\"Enter the name of the product: \").lower()\n",
    "        customer_orders.add(customer_choice)\n",
    "        user_input = input(\"Do you want to add another product? (yes/no): \").lower()\n",
    "        \n",
    "        while user_input not in [\"yes\", \"no\"]:\n",
    "            print(\"Invalid input. Please enter 'yes' or 'no'.\")\n",
    "            user_input = input(\"Do you want to add another product? (yes/no): \").lower()\n",
    "        \n",
    "    return customer_orders\n"
   ]
  },
  {
   "cell_type": "code",
   "execution_count": 171,
   "id": "e78d50f0-1ba4-4f96-897b-fdfa12545673",
   "metadata": {},
   "outputs": [],
   "source": [
    "def update_inventory(customer_orders, inventory):\n",
    "    for item in customer_orders:\n",
    "        if item in inventory:\n",
    "            inventory[item]-=1\n",
    "        else:\n",
    "            print(f\"Item '{item}' is either out of stock or not available in inventory.\")\n",
    "    return inventory   "
   ]
  },
  {
   "cell_type": "code",
   "execution_count": 172,
   "id": "4ed55e3c-bb32-457c-9231-6a4f2a5327f1",
   "metadata": {},
   "outputs": [],
   "source": [
    "def calculate_order_statistics(customer_orders,products):\n",
    "    total_products_ordered= len(customer_orders)\n",
    "    unique_percentage= (len(customer_orders)/ len(products))*100\n",
    "    \n",
    "    return total_products_ordered, unique_percentage"
   ]
  },
  {
   "cell_type": "code",
   "execution_count": 173,
   "id": "66318e33-e572-4fd1-8539-7bed05b962e2",
   "metadata": {},
   "outputs": [],
   "source": [
    "def print_order_statistics(order_statistics):\n",
    "    total_products_ordered, unique_percentage = order_statistics\n",
    "    print(f\"Total products ordered: {total_products_ordered}\")\n",
    "    print(f\"Percentage of unique products ordered: {unique_percentage:.2f}%\")\n"
   ]
  },
  {
   "cell_type": "code",
   "execution_count": 174,
   "id": "8cf3ddd5-a821-45e5-90ad-38888d915978",
   "metadata": {},
   "outputs": [],
   "source": [
    "def print_updated_inventory(inventory):\n",
    "    print(\"\\nUpdated inventory:\")\n",
    "    for product, quantity in inventory.items():\n",
    "        print(f\"{product}: {quantity}\")"
   ]
  },
  {
   "cell_type": "code",
   "execution_count": 175,
   "id": "e37f1483-1efb-43ee-b463-8079c5e4fc48",
   "metadata": {},
   "outputs": [],
   "source": [
    "def main(): \n",
    "    products=[\"t-shirt\", \"mug\", \"hat\", \"book\", \"keychain\"]\n",
    "    inventory= initialize_inventory(products)\n",
    "    customer_orders= get_customer_orders()\n",
    "    updated_inventory = update_inventory(customer_orders, inventory)\n",
    "    order_statistics = calculate_order_statistics(customer_orders, products)\n",
    "    print_updated_inventory(updated_inventory)"
   ]
  },
  {
   "cell_type": "code",
   "execution_count": 176,
   "id": "102af339-07a6-4ce2-b518-a83d64d2e8b3",
   "metadata": {},
   "outputs": [
    {
     "name": "stdin",
     "output_type": "stream",
     "text": [
      "please enter a quantity of t-shirt 5\n",
      "please enter a quantity of mug 5\n",
      "please enter a quantity of hat 5\n",
      "please enter a quantity of book 5\n",
      "please enter a quantity of keychain 5\n",
      "Enter the name of the product:  HAT\n",
      "Do you want to add another product? (yes/no):  YES\n",
      "Enter the name of the product:  BOOK\n",
      "Do you want to add another product? (yes/no):  NO\n"
     ]
    },
    {
     "name": "stdout",
     "output_type": "stream",
     "text": [
      "\n",
      "Updated inventory:\n",
      "t-shirt: 5\n",
      "mug: 5\n",
      "hat: 4\n",
      "book: 4\n",
      "keychain: 5\n"
     ]
    }
   ],
   "source": [
    "if __name__ == \"__main__\":\n",
    "    main()"
   ]
  },
  {
   "cell_type": "code",
   "execution_count": null,
   "id": "652336e9-bb9c-4362-878e-37c1025a55a2",
   "metadata": {},
   "outputs": [],
   "source": []
  }
 ],
 "metadata": {
  "kernelspec": {
   "display_name": "Python 3 (ipykernel)",
   "language": "python",
   "name": "python3"
  },
  "language_info": {
   "codemirror_mode": {
    "name": "ipython",
    "version": 3
   },
   "file_extension": ".py",
   "mimetype": "text/x-python",
   "name": "python",
   "nbconvert_exporter": "python",
   "pygments_lexer": "ipython3",
   "version": "3.11.7"
  }
 },
 "nbformat": 4,
 "nbformat_minor": 5
}
